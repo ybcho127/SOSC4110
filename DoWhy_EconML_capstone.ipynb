{
 "cells": [
  {
   "cell_type": "code",
   "execution_count": 2,
   "metadata": {},
   "outputs": [],
   "source": [
    "# Required libraries\n",
    "import dowhy\n",
    "from dowhy import CausalModel\n",
    "import pandas as pd\n",
    "import numpy as np\n",
    "from networkx.drawing.nx_pydot import to_pydot\n",
    "from IPython.display import Image, display\n",
    "from sklearn.preprocessing import PolynomialFeatures\n",
    "from sklearn.ensemble import GradientBoostingRegressor\n",
    "from econml.dml import LinearDML, CausalForestDML\n",
    "from econml.cate_interpreter import SingleTreeCateInterpreter, SingleTreePolicyInterpreter\n",
    "\n",
    "import matplotlib.pyplot as plt\n",
    "\n",
    "%matplotlib inline\n",
    "\n",
    "# Avoiding unnecessary log messges and warnings\n",
    "import logging\n",
    "logging.getLogger(\"dowhy\").setLevel(logging.WARNING)\n",
    "import warnings\n",
    "from sklearn.exceptions import DataConversionWarning\n",
    "warnings.filterwarnings(action='ignore', category=DataConversionWarning)"
   ]
  },
  {
   "cell_type": "code",
   "execution_count": 3,
   "metadata": {},
   "outputs": [
    {
     "data": {
      "text/html": [
       "<div>\n",
       "<style scoped>\n",
       "    .dataframe tbody tr th:only-of-type {\n",
       "        vertical-align: middle;\n",
       "    }\n",
       "\n",
       "    .dataframe tbody tr th {\n",
       "        vertical-align: top;\n",
       "    }\n",
       "\n",
       "    .dataframe thead th {\n",
       "        text-align: right;\n",
       "    }\n",
       "</style>\n",
       "<table border=\"1\" class=\"dataframe\">\n",
       "  <thead>\n",
       "    <tr style=\"text-align: right;\">\n",
       "      <th></th>\n",
       "      <th>GDP_growth</th>\n",
       "      <th>Inflation_change</th>\n",
       "      <th>Debt_change</th>\n",
       "      <th>LeftRulingParty</th>\n",
       "      <th>RightRulingParty</th>\n",
       "      <th>NuclearExperiment</th>\n",
       "      <th>MissileThreat</th>\n",
       "      <th>EngageinBattle</th>\n",
       "      <th>MS_change</th>\n",
       "    </tr>\n",
       "  </thead>\n",
       "  <tbody>\n",
       "    <tr>\n",
       "      <th>1960</th>\n",
       "      <td>0.000000</td>\n",
       "      <td>0.000000</td>\n",
       "      <td>0.0</td>\n",
       "      <td>1</td>\n",
       "      <td>0</td>\n",
       "      <td>0</td>\n",
       "      <td>0</td>\n",
       "      <td>0</td>\n",
       "      <td>0.000000</td>\n",
       "    </tr>\n",
       "    <tr>\n",
       "      <th>1961</th>\n",
       "      <td>-0.637476</td>\n",
       "      <td>0.000000</td>\n",
       "      <td>0.0</td>\n",
       "      <td>1</td>\n",
       "      <td>0</td>\n",
       "      <td>0</td>\n",
       "      <td>0</td>\n",
       "      <td>0</td>\n",
       "      <td>-0.755006</td>\n",
       "    </tr>\n",
       "    <tr>\n",
       "      <th>1962</th>\n",
       "      <td>0.141045</td>\n",
       "      <td>0.227909</td>\n",
       "      <td>0.0</td>\n",
       "      <td>1</td>\n",
       "      <td>0</td>\n",
       "      <td>0</td>\n",
       "      <td>0</td>\n",
       "      <td>0</td>\n",
       "      <td>0.156282</td>\n",
       "    </tr>\n",
       "    <tr>\n",
       "      <th>1963</th>\n",
       "      <td>0.294311</td>\n",
       "      <td>0.442637</td>\n",
       "      <td>0.0</td>\n",
       "      <td>0</td>\n",
       "      <td>1</td>\n",
       "      <td>0</td>\n",
       "      <td>0</td>\n",
       "      <td>0</td>\n",
       "      <td>-0.004149</td>\n",
       "    </tr>\n",
       "    <tr>\n",
       "      <th>1964</th>\n",
       "      <td>-0.153061</td>\n",
       "      <td>0.009815</td>\n",
       "      <td>0.0</td>\n",
       "      <td>0</td>\n",
       "      <td>1</td>\n",
       "      <td>0</td>\n",
       "      <td>0</td>\n",
       "      <td>0</td>\n",
       "      <td>-0.348433</td>\n",
       "    </tr>\n",
       "  </tbody>\n",
       "</table>\n",
       "</div>"
      ],
      "text/plain": [
       "      GDP_growth  Inflation_change  Debt_change  LeftRulingParty  \\\n",
       "1960    0.000000          0.000000          0.0                1   \n",
       "1961   -0.637476          0.000000          0.0                1   \n",
       "1962    0.141045          0.227909          0.0                1   \n",
       "1963    0.294311          0.442637          0.0                0   \n",
       "1964   -0.153061          0.009815          0.0                0   \n",
       "\n",
       "      RightRulingParty  NuclearExperiment  MissileThreat  EngageinBattle  \\\n",
       "1960                 0                  0              0               0   \n",
       "1961                 0                  0              0               0   \n",
       "1962                 0                  0              0               0   \n",
       "1963                 1                  0              0               0   \n",
       "1964                 1                  0              0               0   \n",
       "\n",
       "      MS_change  \n",
       "1960   0.000000  \n",
       "1961  -0.755006  \n",
       "1962   0.156282  \n",
       "1963  -0.004149  \n",
       "1964  -0.348433  "
      ]
     },
     "execution_count": 3,
     "metadata": {},
     "output_type": "execute_result"
    }
   ],
   "source": [
    "korea_df = pd.read_csv(\"/Users/youngbeomcho/Desktop/Young Beom Cho/UST/22-23 Spring/SOSC 4110/Data/korea_dataset.csv\", index_col= 0)\n",
    "korea_df.head()"
   ]
  },
  {
   "cell_type": "code",
   "execution_count": 69,
   "metadata": {},
   "outputs": [],
   "source": [
    "test = korea_df[32:62]"
   ]
  },
  {
   "cell_type": "code",
   "execution_count": null,
   "metadata": {},
   "outputs": [],
   "source": [
    "test_list =[0.03614982, 0.03614982, 0.03614982, 0.03614982, 0.03614982, 0.03614982,\n",
    " 0.03614982, 0.03614982, 0.03614982, 0.03614982, 0.03614982, 0.03614982,\n",
    " 0.03614982, 0.03614982, 0.03614982, 0.03614982, 0.03614982, 0.03614982,\n",
    " 0.03614982, 0.03614982, 0.03614982, 0.03614982, 0.03614982, 0.03614982,\n",
    " 0.03614982, 0.02705778, 0.03614982, 0.03614982, 0.03614982, 0.03614982,\n",
    " 0.03614982, 0.03614982, 0.03614982, 0.02705778, 0.03614982, 0.03614982,\n",
    " 0.02705778, 0.03614982, 0.03614982, 0.02705778, 0.02705778, 0.02705778,\n",
    " 0.02705778, 0.02705778, 0.02705778, 0.03614982, 0.02705778, 0.02705778,\n",
    " 0.02705778,]\n",
    "\n",
    "print(sum(test_list))\n",
    "print(len(test_list))\n",
    "print(sum(test_list)/ len(test_list))"
   ]
  },
  {
   "cell_type": "code",
   "execution_count": 70,
   "metadata": {},
   "outputs": [
    {
     "name": "stdout",
     "output_type": "stream",
     "text": [
      "dict_keys([0.03614982, 0.02705778])\n",
      "dict_values([37, 12])\n"
     ]
    }
   ],
   "source": [
    "from collections import Counter\n",
    "\n",
    "\n",
    "print(Counter(test_list).keys()) # equals to list(set(words))\n",
    "print(Counter(test_list).values()) # counts the elements' frequency"
   ]
  },
  {
   "cell_type": "code",
   "execution_count": 71,
   "metadata": {},
   "outputs": [
    {
     "name": "stdout",
     "output_type": "stream",
     "text": [
      "dict_keys([0, 1])\n",
      "dict_values([18, 12])\n"
     ]
    }
   ],
   "source": [
    "test_missile = test.MissileThreat.to_list()\n",
    "print(Counter(test_missile).keys()) # equals to list(set(words))\n",
    "print(Counter(test_missile).values()) # counts the elements' frequency"
   ]
  },
  {
   "cell_type": "code",
   "execution_count": 72,
   "metadata": {},
   "outputs": [
    {
     "name": "stdout",
     "output_type": "stream",
     "text": [
      "dict_keys([0, 1])\n",
      "dict_values([25, 5])\n"
     ]
    }
   ],
   "source": [
    "test_nuclear = test.NuclearExperiment.to_list()\n",
    "print(Counter(test_nuclear).keys()) # equals to list(set(words))\n",
    "print(Counter(test_nuclear).values()) # counts the elements' frequency"
   ]
  },
  {
   "cell_type": "code",
   "execution_count": 73,
   "metadata": {},
   "outputs": [
    {
     "name": "stdout",
     "output_type": "stream",
     "text": [
      "dict_keys([0, 1])\n",
      "dict_values([15, 15])\n"
     ]
    }
   ],
   "source": [
    "test_left = test.LeftRulingParty.to_list()\n",
    "print(Counter(test_left).keys()) # equals to list(set(words))\n",
    "print(Counter(test_left).values()) # counts the elements' frequency"
   ]
  },
  {
   "attachments": {},
   "cell_type": "markdown",
   "metadata": {},
   "source": [
    "## T = LeftRulingParty, X = MissileThreat"
   ]
  },
  {
   "attachments": {},
   "cell_type": "markdown",
   "metadata": {},
   "source": [
    "### Param"
   ]
  },
  {
   "cell_type": "code",
   "execution_count": 74,
   "metadata": {},
   "outputs": [],
   "source": [
    "# Define estimator inputs (X = MissileThreat)\n",
    "Y = test[\"MS_change\"].values\n",
    "T = test[\"LeftRulingParty\"].values\n",
    "X = test[[\"MissileThreat\"]].values  # features\n",
    "confounder_names = [\"GDP_growth\", \"EngageinBattle\"]\n",
    "W = test[confounder_names].values"
   ]
  },
  {
   "cell_type": "code",
   "execution_count": 75,
   "metadata": {},
   "outputs": [],
   "source": [
    "# initiate an EconML cate estimator\n",
    "estL1 = LinearDML(model_y=GradientBoostingRegressor(), model_t=GradientBoostingRegressor(),\n",
    "              featurizer=PolynomialFeatures(degree=2, include_bias=False))"
   ]
  },
  {
   "cell_type": "code",
   "execution_count": 76,
   "metadata": {},
   "outputs": [
    {
     "name": "stderr",
     "output_type": "stream",
     "text": [
      "Co-variance matrix is underdetermined. Inference will be invalid!\n"
     ]
    }
   ],
   "source": [
    "estL1_dw = estL1.dowhy.fit(Y, T, X=X, W=W, outcome_names=[\"MS_change\"], treatment_names=[\"LeftRulingParty\"], feature_names=[\"MissileThreat\"],\n",
    "               confounder_names=confounder_names, inference=\"statsmodels\")"
   ]
  },
  {
   "cell_type": "code",
   "execution_count": 77,
   "metadata": {},
   "outputs": [
    {
     "name": "stderr",
     "output_type": "stream",
     "text": [
      "nx.nx_pydot.to_pydot depends on the pydot package, which hasknown issues and is not actively maintained.\n",
      "\n",
      "See https://github.com/networkx/networkx/issues/5723\n"
     ]
    },
    {
     "data": {
      "image/png": "[encoded data removed]",
      "text/plain": [
       "<IPython.core.display.Image object>"
      ]
     },
     "metadata": {},
     "output_type": "display_data"
    }
   ],
   "source": [
    "# Visualize causal graph\n",
    "try:\n",
    "    # Try pretty printing the graph. Requires pydot and pygraphviz\n",
    "    display(\n",
    "        Image(to_pydot(estL1_dw._graph._graph).create_png())\n",
    "    )\n",
    "except:\n",
    "    # Fall back on default graph view\n",
    "    estL1_dw.view_model() "
   ]
  },
  {
   "cell_type": "code",
   "execution_count": 78,
   "metadata": {},
   "outputs": [
    {
     "name": "stdout",
     "output_type": "stream",
     "text": [
      "Estimand type: nonparametric-ate\n",
      "\n",
      "### Estimand : 1\n",
      "Estimand name: backdoor\n",
      "Estimand expression:\n",
      "        d                                                               \n",
      "──────────────────(E[MS_change|GDP_growth,MissileThreat,EngageinBattle])\n",
      "d[LeftRulingParty]                                                      \n",
      "Estimand assumption 1, Unconfoundedness: If U→{LeftRulingParty} and U→MS_change then P(MS_change|LeftRulingParty,GDP_growth,MissileThreat,EngageinBattle,U) = P(MS_change|LeftRulingParty,GDP_growth,MissileThreat,EngageinBattle)\n",
      "\n",
      "### Estimand : 2\n",
      "Estimand name: iv\n",
      "No such variable(s) found!\n",
      "\n",
      "### Estimand : 3\n",
      "Estimand name: frontdoor\n",
      "No such variable(s) found!\n",
      "\n"
     ]
    }
   ],
   "source": [
    "identified_estimand = estL1_dw.identified_estimand_\n",
    "print(identified_estimand)"
   ]
  },
  {
   "cell_type": "code",
   "execution_count": 79,
   "metadata": {},
   "outputs": [
    {
     "name": "stdout",
     "output_type": "stream",
     "text": [
      "*** Causal Estimate ***\n",
      "\n",
      "## Identified estimand\n",
      "Estimand type: nonparametric-ate\n",
      "\n",
      "### Estimand : 1\n",
      "Estimand name: backdoor\n",
      "Estimand expression:\n",
      "        d                                                               \n",
      "──────────────────(E[MS_change|GDP_growth,MissileThreat,EngageinBattle])\n",
      "d[LeftRulingParty]                                                      \n",
      "Estimand assumption 1, Unconfoundedness: If U→{LeftRulingParty} and U→MS_change then P(MS_change|LeftRulingParty,GDP_growth,MissileThreat,EngageinBattle,U) = P(MS_change|LeftRulingParty,GDP_growth,MissileThreat,EngageinBattle)\n",
      "\n",
      "## Realized estimand\n",
      "b: MS_change~LeftRulingParty+GDP_growth+MissileThreat+EngageinBattle | MissileThreat\n",
      "Target units: ate\n",
      "\n",
      "## Estimate\n",
      "Mean value: 0.021322640967072346\n",
      "Effect estimates: [0.01786379 0.01786379 0.01786379 0.01786379 0.01786379 0.01786379\n",
      " 0.02651092 0.01786379 0.01786379 0.01786379 0.01786379 0.01786379\n",
      " 0.01786379 0.01786379 0.02651092 0.01786379 0.01786379 0.02651092\n",
      " 0.01786379 0.01786379 0.02651092 0.02651092 0.02651092 0.02651092\n",
      " 0.02651092 0.02651092 0.01786379 0.02651092 0.02651092 0.02651092]\n",
      "\n"
     ]
    }
   ],
   "source": [
    "lineardml_estimate = estL1_dw.estimate_\n",
    "print(lineardml_estimate)"
   ]
  },
  {
   "attachments": {},
   "cell_type": "markdown",
   "metadata": {},
   "source": [
    "### Non-Param"
   ]
  },
  {
   "cell_type": "code",
   "execution_count": 80,
   "metadata": {},
   "outputs": [],
   "source": [
    "# initiate an EconML cate estimator\n",
    "estL1_nonparam = CausalForestDML(model_y=GradientBoostingRegressor(), model_t=GradientBoostingRegressor())\n",
    "# fit through dowhy\n",
    "estL1_nonparam_dw = estL1_nonparam.dowhy.fit(Y, T, X=X, W=W, outcome_names=[\"MS_change\"], treatment_names=[\"LeftRulingParty\"],\n",
    "                                         feature_names=[\"MissileThreat\"], confounder_names=confounder_names, inference=\"blb\")"
   ]
  },
  {
   "cell_type": "code",
   "execution_count": 81,
   "metadata": {},
   "outputs": [
    {
     "name": "stdout",
     "output_type": "stream",
     "text": [
      "*** Causal Estimate ***\n",
      "\n",
      "## Identified estimand\n",
      "Estimand type: nonparametric-ate\n",
      "\n",
      "### Estimand : 1\n",
      "Estimand name: backdoor\n",
      "Estimand expression:\n",
      "        d                                                               \n",
      "──────────────────(E[MS_change|GDP_growth,MissileThreat,EngageinBattle])\n",
      "d[LeftRulingParty]                                                      \n",
      "Estimand assumption 1, Unconfoundedness: If U→{LeftRulingParty} and U→MS_change then P(MS_change|LeftRulingParty,GDP_growth,MissileThreat,EngageinBattle,U) = P(MS_change|LeftRulingParty,GDP_growth,MissileThreat,EngageinBattle)\n",
      "\n",
      "## Realized estimand\n",
      "b: MS_change~LeftRulingParty+GDP_growth+MissileThreat+EngageinBattle | MissileThreat\n",
      "Target units: ate\n",
      "\n",
      "## Estimate\n",
      "Mean value: -0.004945148452564918\n",
      "Effect estimates: [-0.00494515 -0.00494515 -0.00494515 -0.00494515 -0.00494515 -0.00494515\n",
      " -0.00494515 -0.00494515 -0.00494515 -0.00494515 -0.00494515 -0.00494515\n",
      " -0.00494515 -0.00494515 -0.00494515 -0.00494515 -0.00494515 -0.00494515\n",
      " -0.00494515 -0.00494515 -0.00494515 -0.00494515 -0.00494515 -0.00494515\n",
      " -0.00494515 -0.00494515 -0.00494515 -0.00494515 -0.00494515 -0.00494515]\n",
      "\n"
     ]
    }
   ],
   "source": [
    "print(estL1_nonparam_dw.estimate_)"
   ]
  },
  {
   "cell_type": "code",
   "execution_count": 82,
   "metadata": {},
   "outputs": [
    {
     "name": "stdout",
     "output_type": "stream",
     "text": [
      "Refute: Add a random common cause\n",
      "Estimated effect:-0.004945148452564918\n",
      "New effect:0.0182736475834967\n",
      "p value:0.0009664003646650323\n",
      "\n"
     ]
    }
   ],
   "source": [
    "res_random = estL1_nonparam_dw.refute_estimate(method_name=\"random_common_cause\", num_simulations=4)\n",
    "print(res_random)"
   ]
  },
  {
   "cell_type": "code",
   "execution_count": 83,
   "metadata": {},
   "outputs": [
    {
     "name": "stdout",
     "output_type": "stream",
     "text": [
      "Refute: Add an Unobserved Common Cause\n",
      "Estimated effect:-0.004945148452564918\n",
      "New effect:-0.05354853703509185\n",
      "\n"
     ]
    }
   ],
   "source": [
    "res_unobserved = estL1_nonparam_dw.refute_estimate(\n",
    "    method_name=\"add_unobserved_common_cause\",\n",
    "    confounders_effect_on_treatment=\"linear\",\n",
    "    confounders_effect_on_outcome=\"linear\",\n",
    "    effect_strength_on_treatment=0.1,\n",
    "    effect_strength_on_outcome=0.1,\n",
    ")\n",
    "print(res_unobserved)"
   ]
  },
  {
   "cell_type": "code",
   "execution_count": 84,
   "metadata": {},
   "outputs": [
    {
     "name": "stdout",
     "output_type": "stream",
     "text": [
      "Refute: Use a Placebo Treatment\n",
      "Estimated effect:-0.004945148452564918\n",
      "New effect:0.018358030574795934\n",
      "p value:0.14865273878892765\n",
      "\n"
     ]
    }
   ],
   "source": [
    "res_placebo = estL1_nonparam_dw.refute_estimate(\n",
    "    method_name=\"placebo_treatment_refuter\", placebo_type=\"permute\", \n",
    "    num_simulations=3\n",
    ")\n",
    "print(res_placebo)"
   ]
  },
  {
   "cell_type": "code",
   "execution_count": 85,
   "metadata": {},
   "outputs": [
    {
     "name": "stdout",
     "output_type": "stream",
     "text": [
      "Refute: Use a subset of data\n",
      "Estimated effect:-0.004945148452564918\n",
      "New effect:0.013991865986492463\n",
      "p value:0.15692181770306318\n",
      "\n"
     ]
    }
   ],
   "source": [
    "res_subset = estL1_nonparam_dw.refute_estimate(\n",
    "    method_name=\"data_subset_refuter\", subset_fraction=0.2, \n",
    "    num_simulations=3)\n",
    "print(res_subset)"
   ]
  },
  {
   "attachments": {},
   "cell_type": "markdown",
   "metadata": {},
   "source": [
    "## T = LeftRulingParty, T = NuclearExperiment"
   ]
  },
  {
   "attachments": {},
   "cell_type": "markdown",
   "metadata": {},
   "source": [
    "### Param"
   ]
  },
  {
   "cell_type": "code",
   "execution_count": 86,
   "metadata": {},
   "outputs": [],
   "source": [
    "# Define estimator inputs (T = LeftRulingParty)\n",
    "Y = test[\"MS_change\"].values\n",
    "T = test[\"LeftRulingParty\"].values\n",
    "X = test[[\"NuclearExperiment\"]].values  # features\n",
    "confounder_names = [\"GDP_growth\", \"EngageinBattle\"]\n",
    "W = test[confounder_names].values"
   ]
  },
  {
   "cell_type": "code",
   "execution_count": 87,
   "metadata": {},
   "outputs": [],
   "source": [
    "# initiate an EconML cate estimator\n",
    "estL2 = LinearDML(model_y=GradientBoostingRegressor(), model_t=GradientBoostingRegressor(),\n",
    "              featurizer=PolynomialFeatures(degree=2, include_bias=False))"
   ]
  },
  {
   "cell_type": "code",
   "execution_count": 88,
   "metadata": {},
   "outputs": [
    {
     "name": "stderr",
     "output_type": "stream",
     "text": [
      "Co-variance matrix is underdetermined. Inference will be invalid!\n"
     ]
    }
   ],
   "source": [
    "estL2_dw = estL2.dowhy.fit(Y, T, X=X, W=W, outcome_names=[\"MS_change\"], treatment_names=[\"LeftRulingParty\"], feature_names=[\"NuclearExperiment\"],\n",
    "               confounder_names=confounder_names, inference=\"statsmodels\")"
   ]
  },
  {
   "cell_type": "code",
   "execution_count": 89,
   "metadata": {},
   "outputs": [
    {
     "name": "stderr",
     "output_type": "stream",
     "text": [
      "nx.nx_pydot.to_pydot depends on the pydot package, which hasknown issues and is not actively maintained.\n",
      "\n",
      "See https://github.com/networkx/networkx/issues/5723\n"
     ]
    },
    {
     "data": {
      "image/png": "[encoded data removed]",
      "text/plain": [
       "<IPython.core.display.Image object>"
      ]
     },
     "metadata": {},
     "output_type": "display_data"
    }
   ],
   "source": [
    "# Visualize causal graph\n",
    "try:\n",
    "    # Try pretty printing the graph. Requires pydot and pygraphviz\n",
    "    display(\n",
    "        Image(to_pydot(estL2_dw._graph._graph).create_png())\n",
    "    )\n",
    "except:\n",
    "    # Fall back on default graph view\n",
    "    estL2_dw.view_model() "
   ]
  },
  {
   "cell_type": "code",
   "execution_count": 90,
   "metadata": {},
   "outputs": [
    {
     "name": "stdout",
     "output_type": "stream",
     "text": [
      "Estimand type: nonparametric-ate\n",
      "\n",
      "### Estimand : 1\n",
      "Estimand name: backdoor\n",
      "Estimand expression:\n",
      "        d                                                                   \n",
      "──────────────────(E[MS_change|NuclearExperiment,GDP_growth,EngageinBattle])\n",
      "d[LeftRulingParty]                                                          \n",
      "Estimand assumption 1, Unconfoundedness: If U→{LeftRulingParty} and U→MS_change then P(MS_change|LeftRulingParty,NuclearExperiment,GDP_growth,EngageinBattle,U) = P(MS_change|LeftRulingParty,NuclearExperiment,GDP_growth,EngageinBattle)\n",
      "\n",
      "### Estimand : 2\n",
      "Estimand name: iv\n",
      "No such variable(s) found!\n",
      "\n",
      "### Estimand : 3\n",
      "Estimand name: frontdoor\n",
      "No such variable(s) found!\n",
      "\n"
     ]
    }
   ],
   "source": [
    "identified_estimand = estL2_dw.identified_estimand_\n",
    "print(identified_estimand)"
   ]
  },
  {
   "cell_type": "code",
   "execution_count": 91,
   "metadata": {},
   "outputs": [
    {
     "data": {
      "text/html": [
       "<div>\n",
       "<style scoped>\n",
       "    .dataframe tbody tr th:only-of-type {\n",
       "        vertical-align: middle;\n",
       "    }\n",
       "\n",
       "    .dataframe tbody tr th {\n",
       "        vertical-align: top;\n",
       "    }\n",
       "\n",
       "    .dataframe thead th {\n",
       "        text-align: right;\n",
       "    }\n",
       "</style>\n",
       "<table border=\"1\" class=\"dataframe\">\n",
       "  <thead>\n",
       "    <tr style=\"text-align: right;\">\n",
       "      <th></th>\n",
       "      <th>GDP_growth</th>\n",
       "      <th>Inflation_change</th>\n",
       "      <th>Debt_change</th>\n",
       "      <th>LeftRulingParty</th>\n",
       "      <th>RightRulingParty</th>\n",
       "      <th>NuclearExperiment</th>\n",
       "      <th>MissileThreat</th>\n",
       "      <th>EngageinBattle</th>\n",
       "      <th>MS_change</th>\n",
       "    </tr>\n",
       "  </thead>\n",
       "  <tbody>\n",
       "    <tr>\n",
       "      <th>1992</th>\n",
       "      <td>0.069972</td>\n",
       "      <td>-0.175248</td>\n",
       "      <td>0.000000</td>\n",
       "      <td>0</td>\n",
       "      <td>1</td>\n",
       "      <td>0</td>\n",
       "      <td>0</td>\n",
       "      <td>0</td>\n",
       "      <td>0.056665</td>\n",
       "    </tr>\n",
       "    <tr>\n",
       "      <th>1993</th>\n",
       "      <td>0.094586</td>\n",
       "      <td>-0.243574</td>\n",
       "      <td>0.000000</td>\n",
       "      <td>0</td>\n",
       "      <td>1</td>\n",
       "      <td>0</td>\n",
       "      <td>0</td>\n",
       "      <td>0</td>\n",
       "      <td>0.061625</td>\n",
       "    </tr>\n",
       "    <tr>\n",
       "      <th>1994</th>\n",
       "      <td>0.153038</td>\n",
       "      <td>0.233417</td>\n",
       "      <td>1.000000</td>\n",
       "      <td>0</td>\n",
       "      <td>1</td>\n",
       "      <td>0</td>\n",
       "      <td>0</td>\n",
       "      <td>0</td>\n",
       "      <td>0.084460</td>\n",
       "    </tr>\n",
       "    <tr>\n",
       "      <th>1995</th>\n",
       "      <td>0.181731</td>\n",
       "      <td>-0.161490</td>\n",
       "      <td>0.258035</td>\n",
       "      <td>0</td>\n",
       "      <td>1</td>\n",
       "      <td>0</td>\n",
       "      <td>0</td>\n",
       "      <td>0</td>\n",
       "      <td>0.159516</td>\n",
       "    </tr>\n",
       "    <tr>\n",
       "      <th>1996</th>\n",
       "      <td>0.071433</td>\n",
       "      <td>-0.708859</td>\n",
       "      <td>0.247928</td>\n",
       "      <td>0</td>\n",
       "      <td>1</td>\n",
       "      <td>0</td>\n",
       "      <td>0</td>\n",
       "      <td>1</td>\n",
       "      <td>0.019719</td>\n",
       "    </tr>\n",
       "    <tr>\n",
       "      <th>1997</th>\n",
       "      <td>-0.070934</td>\n",
       "      <td>-0.026825</td>\n",
       "      <td>0.103960</td>\n",
       "      <td>0</td>\n",
       "      <td>1</td>\n",
       "      <td>0</td>\n",
       "      <td>0</td>\n",
       "      <td>1</td>\n",
       "      <td>-0.105073</td>\n",
       "    </tr>\n",
       "    <tr>\n",
       "      <th>1998</th>\n",
       "      <td>-0.486326</td>\n",
       "      <td>0.105596</td>\n",
       "      <td>-0.065963</td>\n",
       "      <td>1</td>\n",
       "      <td>0</td>\n",
       "      <td>0</td>\n",
       "      <td>1</td>\n",
       "      <td>0</td>\n",
       "      <td>-0.419826</td>\n",
       "    </tr>\n",
       "    <tr>\n",
       "      <th>1999</th>\n",
       "      <td>0.229505</td>\n",
       "      <td>4.639449</td>\n",
       "      <td>-0.084406</td>\n",
       "      <td>1</td>\n",
       "      <td>0</td>\n",
       "      <td>0</td>\n",
       "      <td>0</td>\n",
       "      <td>1</td>\n",
       "      <td>0.135362</td>\n",
       "    </tr>\n",
       "    <tr>\n",
       "      <th>2000</th>\n",
       "      <td>0.136530</td>\n",
       "      <td>2.203638</td>\n",
       "      <td>-0.034024</td>\n",
       "      <td>1</td>\n",
       "      <td>0</td>\n",
       "      <td>0</td>\n",
       "      <td>0</td>\n",
       "      <td>0</td>\n",
       "      <td>0.123607</td>\n",
       "    </tr>\n",
       "    <tr>\n",
       "      <th>2001</th>\n",
       "      <td>-0.052076</td>\n",
       "      <td>0.706263</td>\n",
       "      <td>-0.165517</td>\n",
       "      <td>1</td>\n",
       "      <td>0</td>\n",
       "      <td>0</td>\n",
       "      <td>0</td>\n",
       "      <td>0</td>\n",
       "      <td>-0.066394</td>\n",
       "    </tr>\n",
       "    <tr>\n",
       "      <th>2002</th>\n",
       "      <td>0.126885</td>\n",
       "      <td>-0.146831</td>\n",
       "      <td>0.098679</td>\n",
       "      <td>1</td>\n",
       "      <td>0</td>\n",
       "      <td>0</td>\n",
       "      <td>0</td>\n",
       "      <td>1</td>\n",
       "      <td>0.082249</td>\n",
       "    </tr>\n",
       "    <tr>\n",
       "      <th>2003</th>\n",
       "      <td>0.107399</td>\n",
       "      <td>0.120827</td>\n",
       "      <td>0.069414</td>\n",
       "      <td>1</td>\n",
       "      <td>0</td>\n",
       "      <td>0</td>\n",
       "      <td>0</td>\n",
       "      <td>0</td>\n",
       "      <td>0.110137</td>\n",
       "    </tr>\n",
       "    <tr>\n",
       "      <th>2004</th>\n",
       "      <td>0.114045</td>\n",
       "      <td>-0.102981</td>\n",
       "      <td>0.067431</td>\n",
       "      <td>1</td>\n",
       "      <td>0</td>\n",
       "      <td>0</td>\n",
       "      <td>0</td>\n",
       "      <td>0</td>\n",
       "      <td>0.111208</td>\n",
       "    </tr>\n",
       "    <tr>\n",
       "      <th>2005</th>\n",
       "      <td>0.151595</td>\n",
       "      <td>-2.003530</td>\n",
       "      <td>0.084568</td>\n",
       "      <td>1</td>\n",
       "      <td>0</td>\n",
       "      <td>0</td>\n",
       "      <td>0</td>\n",
       "      <td>0</td>\n",
       "      <td>0.195386</td>\n",
       "    </tr>\n",
       "    <tr>\n",
       "      <th>2006</th>\n",
       "      <td>0.112338</td>\n",
       "      <td>5.665869</td>\n",
       "      <td>0.293194</td>\n",
       "      <td>1</td>\n",
       "      <td>0</td>\n",
       "      <td>1</td>\n",
       "      <td>1</td>\n",
       "      <td>0</td>\n",
       "      <td>0.119859</td>\n",
       "    </tr>\n",
       "    <tr>\n",
       "      <th>2007</th>\n",
       "      <td>0.101821</td>\n",
       "      <td>1.092260</td>\n",
       "      <td>0.323295</td>\n",
       "      <td>1</td>\n",
       "      <td>0</td>\n",
       "      <td>0</td>\n",
       "      <td>0</td>\n",
       "      <td>0</td>\n",
       "      <td>0.091931</td>\n",
       "    </tr>\n",
       "    <tr>\n",
       "      <th>2008</th>\n",
       "      <td>-0.119613</td>\n",
       "      <td>0.144042</td>\n",
       "      <td>-0.072175</td>\n",
       "      <td>0</td>\n",
       "      <td>1</td>\n",
       "      <td>0</td>\n",
       "      <td>0</td>\n",
       "      <td>1</td>\n",
       "      <td>-0.063428</td>\n",
       "    </tr>\n",
       "    <tr>\n",
       "      <th>2009</th>\n",
       "      <td>-0.109538</td>\n",
       "      <td>0.216797</td>\n",
       "      <td>0.083285</td>\n",
       "      <td>0</td>\n",
       "      <td>1</td>\n",
       "      <td>1</td>\n",
       "      <td>1</td>\n",
       "      <td>1</td>\n",
       "      <td>-0.060904</td>\n",
       "    </tr>\n",
       "    <tr>\n",
       "      <th>2010</th>\n",
       "      <td>0.174924</td>\n",
       "      <td>-0.318228</td>\n",
       "      <td>0.031750</td>\n",
       "      <td>0</td>\n",
       "      <td>1</td>\n",
       "      <td>0</td>\n",
       "      <td>0</td>\n",
       "      <td>1</td>\n",
       "      <td>0.127755</td>\n",
       "    </tr>\n",
       "    <tr>\n",
       "      <th>2011</th>\n",
       "      <td>0.087100</td>\n",
       "      <td>-1.135560</td>\n",
       "      <td>0.110250</td>\n",
       "      <td>0</td>\n",
       "      <td>1</td>\n",
       "      <td>0</td>\n",
       "      <td>0</td>\n",
       "      <td>0</td>\n",
       "      <td>0.090880</td>\n",
       "    </tr>\n",
       "    <tr>\n",
       "      <th>2012</th>\n",
       "      <td>0.019715</td>\n",
       "      <td>-0.024010</td>\n",
       "      <td>0.021766</td>\n",
       "      <td>0</td>\n",
       "      <td>1</td>\n",
       "      <td>0</td>\n",
       "      <td>1</td>\n",
       "      <td>0</td>\n",
       "      <td>0.030047</td>\n",
       "    </tr>\n",
       "    <tr>\n",
       "      <th>2013</th>\n",
       "      <td>0.067382</td>\n",
       "      <td>-0.229018</td>\n",
       "      <td>0.034475</td>\n",
       "      <td>0</td>\n",
       "      <td>1</td>\n",
       "      <td>1</td>\n",
       "      <td>1</td>\n",
       "      <td>0</td>\n",
       "      <td>0.068766</td>\n",
       "    </tr>\n",
       "    <tr>\n",
       "      <th>2014</th>\n",
       "      <td>0.076482</td>\n",
       "      <td>-0.123109</td>\n",
       "      <td>0.001885</td>\n",
       "      <td>0</td>\n",
       "      <td>1</td>\n",
       "      <td>0</td>\n",
       "      <td>1</td>\n",
       "      <td>1</td>\n",
       "      <td>0.086308</td>\n",
       "    </tr>\n",
       "    <tr>\n",
       "      <th>2015</th>\n",
       "      <td>-0.012652</td>\n",
       "      <td>0.715313</td>\n",
       "      <td>-0.071194</td>\n",
       "      <td>0</td>\n",
       "      <td>1</td>\n",
       "      <td>0</td>\n",
       "      <td>1</td>\n",
       "      <td>1</td>\n",
       "      <td>-0.026839</td>\n",
       "    </tr>\n",
       "    <tr>\n",
       "      <th>2016</th>\n",
       "      <td>0.022891</td>\n",
       "      <td>-0.603995</td>\n",
       "      <td>-0.036368</td>\n",
       "      <td>0</td>\n",
       "      <td>1</td>\n",
       "      <td>1</td>\n",
       "      <td>1</td>\n",
       "      <td>0</td>\n",
       "      <td>0.008527</td>\n",
       "    </tr>\n",
       "    <tr>\n",
       "      <th>2017</th>\n",
       "      <td>0.076230</td>\n",
       "      <td>0.106507</td>\n",
       "      <td>0.072330</td>\n",
       "      <td>1</td>\n",
       "      <td>0</td>\n",
       "      <td>1</td>\n",
       "      <td>1</td>\n",
       "      <td>0</td>\n",
       "      <td>0.058345</td>\n",
       "    </tr>\n",
       "    <tr>\n",
       "      <th>2018</th>\n",
       "      <td>0.058524</td>\n",
       "      <td>-3.602518</td>\n",
       "      <td>0.066183</td>\n",
       "      <td>1</td>\n",
       "      <td>0</td>\n",
       "      <td>0</td>\n",
       "      <td>0</td>\n",
       "      <td>0</td>\n",
       "      <td>0.090534</td>\n",
       "    </tr>\n",
       "    <tr>\n",
       "      <th>2019</th>\n",
       "      <td>-0.044460</td>\n",
       "      <td>1.575401</td>\n",
       "      <td>0.062673</td>\n",
       "      <td>1</td>\n",
       "      <td>0</td>\n",
       "      <td>0</td>\n",
       "      <td>1</td>\n",
       "      <td>0</td>\n",
       "      <td>0.018703</td>\n",
       "    </tr>\n",
       "    <tr>\n",
       "      <th>2020</th>\n",
       "      <td>-0.004324</td>\n",
       "      <td>1.639287</td>\n",
       "      <td>0.136172</td>\n",
       "      <td>1</td>\n",
       "      <td>0</td>\n",
       "      <td>0</td>\n",
       "      <td>1</td>\n",
       "      <td>1</td>\n",
       "      <td>0.035874</td>\n",
       "    </tr>\n",
       "    <tr>\n",
       "      <th>2021</th>\n",
       "      <td>0.092019</td>\n",
       "      <td>0.432969</td>\n",
       "      <td>0.133015</td>\n",
       "      <td>1</td>\n",
       "      <td>0</td>\n",
       "      <td>0</td>\n",
       "      <td>1</td>\n",
       "      <td>0</td>\n",
       "      <td>0.093634</td>\n",
       "    </tr>\n",
       "  </tbody>\n",
       "</table>\n",
       "</div>"
      ],
      "text/plain": [
       "      GDP_growth  Inflation_change  Debt_change  LeftRulingParty  \\\n",
       "1992    0.069972         -0.175248     0.000000                0   \n",
       "1993    0.094586         -0.243574     0.000000                0   \n",
       "1994    0.153038          0.233417     1.000000                0   \n",
       "1995    0.181731         -0.161490     0.258035                0   \n",
       "1996    0.071433         -0.708859     0.247928                0   \n",
       "1997   -0.070934         -0.026825     0.103960                0   \n",
       "1998   -0.486326          0.105596    -0.065963                1   \n",
       "1999    0.229505          4.639449    -0.084406                1   \n",
       "2000    0.136530          2.203638    -0.034024                1   \n",
       "2001   -0.052076          0.706263    -0.165517                1   \n",
       "2002    0.126885         -0.146831     0.098679                1   \n",
       "2003    0.107399          0.120827     0.069414                1   \n",
       "2004    0.114045         -0.102981     0.067431                1   \n",
       "2005    0.151595         -2.003530     0.084568                1   \n",
       "2006    0.112338          5.665869     0.293194                1   \n",
       "2007    0.101821          1.092260     0.323295                1   \n",
       "2008   -0.119613          0.144042    -0.072175                0   \n",
       "2009   -0.109538          0.216797     0.083285                0   \n",
       "2010    0.174924         -0.318228     0.031750                0   \n",
       "2011    0.087100         -1.135560     0.110250                0   \n",
       "2012    0.019715         -0.024010     0.021766                0   \n",
       "2013    0.067382         -0.229018     0.034475                0   \n",
       "2014    0.076482         -0.123109     0.001885                0   \n",
       "2015   -0.012652          0.715313    -0.071194                0   \n",
       "2016    0.022891         -0.603995    -0.036368                0   \n",
       "2017    0.076230          0.106507     0.072330                1   \n",
       "2018    0.058524         -3.602518     0.066183                1   \n",
       "2019   -0.044460          1.575401     0.062673                1   \n",
       "2020   -0.004324          1.639287     0.136172                1   \n",
       "2021    0.092019          0.432969     0.133015                1   \n",
       "\n",
       "      RightRulingParty  NuclearExperiment  MissileThreat  EngageinBattle  \\\n",
       "1992                 1                  0              0               0   \n",
       "1993                 1                  0              0               0   \n",
       "1994                 1                  0              0               0   \n",
       "1995                 1                  0              0               0   \n",
       "1996                 1                  0              0               1   \n",
       "1997                 1                  0              0               1   \n",
       "1998                 0                  0              1               0   \n",
       "1999                 0                  0              0               1   \n",
       "2000                 0                  0              0               0   \n",
       "2001                 0                  0              0               0   \n",
       "2002                 0                  0              0               1   \n",
       "2003                 0                  0              0               0   \n",
       "2004                 0                  0              0               0   \n",
       "2005                 0                  0              0               0   \n",
       "2006                 0                  1              1               0   \n",
       "2007                 0                  0              0               0   \n",
       "2008                 1                  0              0               1   \n",
       "2009                 1                  1              1               1   \n",
       "2010                 1                  0              0               1   \n",
       "2011                 1                  0              0               0   \n",
       "2012                 1                  0              1               0   \n",
       "2013                 1                  1              1               0   \n",
       "2014                 1                  0              1               1   \n",
       "2015                 1                  0              1               1   \n",
       "2016                 1                  1              1               0   \n",
       "2017                 0                  1              1               0   \n",
       "2018                 0                  0              0               0   \n",
       "2019                 0                  0              1               0   \n",
       "2020                 0                  0              1               1   \n",
       "2021                 0                  0              1               0   \n",
       "\n",
       "      MS_change  \n",
       "1992   0.056665  \n",
       "1993   0.061625  \n",
       "1994   0.084460  \n",
       "1995   0.159516  \n",
       "1996   0.019719  \n",
       "1997  -0.105073  \n",
       "1998  -0.419826  \n",
       "1999   0.135362  \n",
       "2000   0.123607  \n",
       "2001  -0.066394  \n",
       "2002   0.082249  \n",
       "2003   0.110137  \n",
       "2004   0.111208  \n",
       "2005   0.195386  \n",
       "2006   0.119859  \n",
       "2007   0.091931  \n",
       "2008  -0.063428  \n",
       "2009  -0.060904  \n",
       "2010   0.127755  \n",
       "2011   0.090880  \n",
       "2012   0.030047  \n",
       "2013   0.068766  \n",
       "2014   0.086308  \n",
       "2015  -0.026839  \n",
       "2016   0.008527  \n",
       "2017   0.058345  \n",
       "2018   0.090534  \n",
       "2019   0.018703  \n",
       "2020   0.035874  \n",
       "2021   0.093634  "
      ]
     },
     "execution_count": 91,
     "metadata": {},
     "output_type": "execute_result"
    }
   ],
   "source": [
    "test"
   ]
  },
  {
   "cell_type": "code",
   "execution_count": 92,
   "metadata": {},
   "outputs": [
    {
     "name": "stdout",
     "output_type": "stream",
     "text": [
      "*** Causal Estimate ***\n",
      "\n",
      "## Identified estimand\n",
      "Estimand type: nonparametric-ate\n",
      "\n",
      "### Estimand : 1\n",
      "Estimand name: backdoor\n",
      "Estimand expression:\n",
      "        d                                                                   \n",
      "──────────────────(E[MS_change|NuclearExperiment,GDP_growth,EngageinBattle])\n",
      "d[LeftRulingParty]                                                          \n",
      "Estimand assumption 1, Unconfoundedness: If U→{LeftRulingParty} and U→MS_change then P(MS_change|LeftRulingParty,NuclearExperiment,GDP_growth,EngageinBattle,U) = P(MS_change|LeftRulingParty,NuclearExperiment,GDP_growth,EngageinBattle)\n",
      "\n",
      "## Realized estimand\n",
      "b: MS_change~LeftRulingParty+NuclearExperiment+GDP_growth+EngageinBattle | NuclearExperiment\n",
      "Target units: ate\n",
      "\n",
      "## Estimate\n",
      "Mean value: 0.04237075382318993\n",
      "Effect estimates: [0.04765169 0.04765169 0.04765169 0.04765169 0.04765169 0.04765169\n",
      " 0.04765169 0.04765169 0.04765169 0.04765169 0.04765169 0.04765169\n",
      " 0.04765169 0.04765169 0.01596608 0.04765169 0.04765169 0.01596608\n",
      " 0.04765169 0.04765169 0.04765169 0.01596608 0.04765169 0.04765169\n",
      " 0.01596608 0.01596608 0.04765169 0.04765169 0.04765169 0.04765169]\n",
      "\n"
     ]
    }
   ],
   "source": [
    "lineardml_estimate = estL2_dw.estimate_\n",
    "print(lineardml_estimate)"
   ]
  },
  {
   "attachments": {},
   "cell_type": "markdown",
   "metadata": {},
   "source": [
    "### Non-param"
   ]
  },
  {
   "cell_type": "code",
   "execution_count": 93,
   "metadata": {},
   "outputs": [],
   "source": [
    "# initiate an EconML cate estimator\n",
    "estL2_nonparam = CausalForestDML(model_y=GradientBoostingRegressor(), model_t=GradientBoostingRegressor())\n",
    "# fit through dowhy\n",
    "estL2_nonparam_dw = estL2_nonparam.dowhy.fit(Y, T, X=X, W=W, outcome_names=[\"MS_change\"], treatment_names=[\"LeftRulingParty\"],\n",
    "                                         feature_names=[\"NuclearExperiment\"], confounder_names=confounder_names, inference=\"blb\")"
   ]
  },
  {
   "cell_type": "code",
   "execution_count": 94,
   "metadata": {},
   "outputs": [
    {
     "name": "stdout",
     "output_type": "stream",
     "text": [
      "*** Causal Estimate ***\n",
      "\n",
      "## Identified estimand\n",
      "Estimand type: nonparametric-ate\n",
      "\n",
      "### Estimand : 1\n",
      "Estimand name: backdoor\n",
      "Estimand expression:\n",
      "        d                                                                   \n",
      "──────────────────(E[MS_change|NuclearExperiment,GDP_growth,EngageinBattle])\n",
      "d[LeftRulingParty]                                                          \n",
      "Estimand assumption 1, Unconfoundedness: If U→{LeftRulingParty} and U→MS_change then P(MS_change|LeftRulingParty,NuclearExperiment,GDP_growth,EngageinBattle,U) = P(MS_change|LeftRulingParty,NuclearExperiment,GDP_growth,EngageinBattle)\n",
      "\n",
      "## Realized estimand\n",
      "b: MS_change~LeftRulingParty+NuclearExperiment+GDP_growth+EngageinBattle | NuclearExperiment\n",
      "Target units: ate\n",
      "\n",
      "## Estimate\n",
      "Mean value: 0.028814802964950908\n",
      "Effect estimates: [0.0288148 0.0288148 0.0288148 0.0288148 0.0288148 0.0288148 0.0288148\n",
      " 0.0288148 0.0288148 0.0288148 0.0288148 0.0288148 0.0288148 0.0288148\n",
      " 0.0288148 0.0288148 0.0288148 0.0288148 0.0288148 0.0288148 0.0288148\n",
      " 0.0288148 0.0288148 0.0288148 0.0288148 0.0288148 0.0288148 0.0288148\n",
      " 0.0288148 0.0288148]\n",
      "\n"
     ]
    }
   ],
   "source": [
    "print(estL2_nonparam_dw.estimate_)"
   ]
  },
  {
   "cell_type": "code",
   "execution_count": 95,
   "metadata": {},
   "outputs": [
    {
     "name": "stdout",
     "output_type": "stream",
     "text": [
      "Refute: Add a random common cause\n",
      "Estimated effect:0.028814802964950908\n",
      "New effect:-0.004559887426019296\n",
      "p value:0.02240341991739314\n",
      "\n"
     ]
    }
   ],
   "source": [
    "res_random = estL2_nonparam_dw.refute_estimate(method_name=\"random_common_cause\", num_simulations=5)\n",
    "print(res_random)"
   ]
  },
  {
   "cell_type": "code",
   "execution_count": 96,
   "metadata": {},
   "outputs": [
    {
     "name": "stdout",
     "output_type": "stream",
     "text": [
      "Refute: Add an Unobserved Common Cause\n",
      "Estimated effect:0.028814802964950908\n",
      "New effect:-0.05017547101139484\n",
      "\n"
     ]
    }
   ],
   "source": [
    "res_unobserved = estL2_nonparam_dw.refute_estimate(\n",
    "    method_name=\"add_unobserved_common_cause\",\n",
    "    confounders_effect_on_treatment=\"linear\",\n",
    "    confounders_effect_on_outcome=\"linear\",\n",
    "    effect_strength_on_treatment=0.1,\n",
    "    effect_strength_on_outcome=0.1,\n",
    ")\n",
    "print(res_unobserved)"
   ]
  },
  {
   "cell_type": "code",
   "execution_count": 97,
   "metadata": {},
   "outputs": [
    {
     "name": "stdout",
     "output_type": "stream",
     "text": [
      "Refute: Use a Placebo Treatment\n",
      "Estimated effect:0.028814802964950908\n",
      "New effect:0.023693216677271353\n",
      "p value:3.55112079944736e-24\n",
      "\n"
     ]
    }
   ],
   "source": [
    "res_placebo = estL2_nonparam_dw.refute_estimate(\n",
    "    method_name=\"placebo_treatment_refuter\", placebo_type=\"permute\", \n",
    "    num_simulations=3\n",
    ")\n",
    "print(res_placebo)"
   ]
  },
  {
   "cell_type": "code",
   "execution_count": 98,
   "metadata": {},
   "outputs": [
    {
     "name": "stdout",
     "output_type": "stream",
     "text": [
      "Refute: Use a subset of data\n",
      "Estimated effect:0.028814802964950908\n",
      "New effect:0.005040661374949517\n",
      "p value:0.0816649166628809\n",
      "\n"
     ]
    }
   ],
   "source": [
    "res_subset = estL2_nonparam_dw.refute_estimate(\n",
    "    method_name=\"data_subset_refuter\", subset_fraction=0.8, \n",
    "    num_simulations=3)\n",
    "print(res_subset)"
   ]
  },
  {
   "attachments": {},
   "cell_type": "markdown",
   "metadata": {},
   "source": [
    "## T = RightRulingParty, X = MissileThreat"
   ]
  },
  {
   "attachments": {},
   "cell_type": "markdown",
   "metadata": {},
   "source": [
    "### Param"
   ]
  },
  {
   "cell_type": "code",
   "execution_count": 99,
   "metadata": {},
   "outputs": [],
   "source": [
    "# Define estimator inputs (X = MissileThreat)\n",
    "Y = test[\"MS_change\"].values\n",
    "T = test[\"RightRulingParty\"].values\n",
    "X = test[[\"MissileThreat\"]].values  # features\n",
    "confounder_names = [\"GDP_growth\", \"EngageinBattle\"]\n",
    "W = test[confounder_names].values"
   ]
  },
  {
   "cell_type": "code",
   "execution_count": 100,
   "metadata": {},
   "outputs": [],
   "source": [
    "estR1 = LinearDML(model_y=GradientBoostingRegressor(), model_t=GradientBoostingRegressor(),\n",
    "              featurizer=PolynomialFeatures(degree=2, include_bias=False))"
   ]
  },
  {
   "cell_type": "code",
   "execution_count": 101,
   "metadata": {},
   "outputs": [
    {
     "name": "stderr",
     "output_type": "stream",
     "text": [
      "Co-variance matrix is underdetermined. Inference will be invalid!\n"
     ]
    }
   ],
   "source": [
    "estR1_dw = estR1.dowhy.fit(Y, T, X=X, W=W, outcome_names=[\"MS_change\"], treatment_names=[\"RightRulingParty\"], feature_names=[\"MissileThreat\"],\n",
    "               confounder_names=confounder_names, inference=\"statsmodels\")"
   ]
  },
  {
   "cell_type": "code",
   "execution_count": 102,
   "metadata": {},
   "outputs": [
    {
     "name": "stderr",
     "output_type": "stream",
     "text": [
      "nx.nx_pydot.to_pydot depends on the pydot package, which hasknown issues and is not actively maintained.\n",
      "\n",
      "See https://github.com/networkx/networkx/issues/5723\n"
     ]
    },
    {
     "data": {
      "image/png": "[encoded data removed]",
      "text/plain": [
       "<IPython.core.display.Image object>"
      ]
     },
     "metadata": {},
     "output_type": "display_data"
    }
   ],
   "source": [
    "# Visualize causal graph\n",
    "try:\n",
    "    # Try pretty printing the graph. Requires pydot and pygraphviz\n",
    "    display(\n",
    "        Image(to_pydot(estR1_dw._graph._graph).create_png())\n",
    "    )\n",
    "except:\n",
    "    # Fall back on default graph view\n",
    "    estR1_dw.view_model() "
   ]
  },
  {
   "cell_type": "code",
   "execution_count": 103,
   "metadata": {},
   "outputs": [
    {
     "name": "stdout",
     "output_type": "stream",
     "text": [
      "Estimand type: nonparametric-ate\n",
      "\n",
      "### Estimand : 1\n",
      "Estimand name: backdoor\n",
      "Estimand expression:\n",
      "         d                                                               \n",
      "───────────────────(E[MS_change|GDP_growth,MissileThreat,EngageinBattle])\n",
      "d[RightRulingParty]                                                      \n",
      "Estimand assumption 1, Unconfoundedness: If U→{RightRulingParty} and U→MS_change then P(MS_change|RightRulingParty,GDP_growth,MissileThreat,EngageinBattle,U) = P(MS_change|RightRulingParty,GDP_growth,MissileThreat,EngageinBattle)\n",
      "\n",
      "### Estimand : 2\n",
      "Estimand name: iv\n",
      "No such variable(s) found!\n",
      "\n",
      "### Estimand : 3\n",
      "Estimand name: frontdoor\n",
      "No such variable(s) found!\n",
      "\n"
     ]
    }
   ],
   "source": [
    "identified_estimand = estR1_dw.identified_estimand_\n",
    "print(identified_estimand)"
   ]
  },
  {
   "cell_type": "code",
   "execution_count": 104,
   "metadata": {},
   "outputs": [
    {
     "name": "stdout",
     "output_type": "stream",
     "text": [
      "*** Causal Estimate ***\n",
      "\n",
      "## Identified estimand\n",
      "Estimand type: nonparametric-ate\n",
      "\n",
      "### Estimand : 1\n",
      "Estimand name: backdoor\n",
      "Estimand expression:\n",
      "         d                                                               \n",
      "───────────────────(E[MS_change|GDP_growth,MissileThreat,EngageinBattle])\n",
      "d[RightRulingParty]                                                      \n",
      "Estimand assumption 1, Unconfoundedness: If U→{RightRulingParty} and U→MS_change then P(MS_change|RightRulingParty,GDP_growth,MissileThreat,EngageinBattle,U) = P(MS_change|RightRulingParty,GDP_growth,MissileThreat,EngageinBattle)\n",
      "\n",
      "## Realized estimand\n",
      "b: MS_change~RightRulingParty+GDP_growth+MissileThreat+EngageinBattle | MissileThreat\n",
      "Target units: ate\n",
      "\n",
      "## Estimate\n",
      "Mean value: -0.020743594363152193\n",
      "Effect estimates: [-0.01615552 -0.01615552 -0.01615552 -0.01615552 -0.01615552 -0.01615552\n",
      " -0.0276257  -0.01615552 -0.01615552 -0.01615552 -0.01615552 -0.01615552\n",
      " -0.01615552 -0.01615552 -0.0276257  -0.01615552 -0.01615552 -0.0276257\n",
      " -0.01615552 -0.01615552 -0.0276257  -0.0276257  -0.0276257  -0.0276257\n",
      " -0.0276257  -0.0276257  -0.01615552 -0.0276257  -0.0276257  -0.0276257 ]\n",
      "\n"
     ]
    }
   ],
   "source": [
    "lineardml_estimate = estR1_dw.estimate_\n",
    "print(lineardml_estimate)"
   ]
  },
  {
   "attachments": {},
   "cell_type": "markdown",
   "metadata": {},
   "source": [
    "### Non-param"
   ]
  },
  {
   "cell_type": "code",
   "execution_count": 105,
   "metadata": {},
   "outputs": [],
   "source": [
    "# initiate an EconML cate estimator\n",
    "estR1_nonparam = CausalForestDML(model_y=GradientBoostingRegressor(), model_t=GradientBoostingRegressor())\n",
    "# fit through dowhy\n",
    "estR1_nonparam_dw = estR1_nonparam.dowhy.fit(Y, T, X=X, W=W, outcome_names=[\"MS_change\"], treatment_names=[\"RightRulingParty\"],\n",
    "                                         feature_names=[\"MissileThreat\"], confounder_names=confounder_names, inference=\"blb\")"
   ]
  },
  {
   "cell_type": "code",
   "execution_count": 106,
   "metadata": {},
   "outputs": [
    {
     "name": "stdout",
     "output_type": "stream",
     "text": [
      "*** Causal Estimate ***\n",
      "\n",
      "## Identified estimand\n",
      "Estimand type: nonparametric-ate\n",
      "\n",
      "### Estimand : 1\n",
      "Estimand name: backdoor\n",
      "Estimand expression:\n",
      "         d                                                               \n",
      "───────────────────(E[MS_change|GDP_growth,MissileThreat,EngageinBattle])\n",
      "d[RightRulingParty]                                                      \n",
      "Estimand assumption 1, Unconfoundedness: If U→{RightRulingParty} and U→MS_change then P(MS_change|RightRulingParty,GDP_growth,MissileThreat,EngageinBattle,U) = P(MS_change|RightRulingParty,GDP_growth,MissileThreat,EngageinBattle)\n",
      "\n",
      "## Realized estimand\n",
      "b: MS_change~RightRulingParty+GDP_growth+MissileThreat+EngageinBattle | MissileThreat\n",
      "Target units: ate\n",
      "\n",
      "## Estimate\n",
      "Mean value: -0.006559085404062168\n",
      "Effect estimates: [-0.00655909 -0.00655909 -0.00655909 -0.00655909 -0.00655909 -0.00655909\n",
      " -0.00655909 -0.00655909 -0.00655909 -0.00655909 -0.00655909 -0.00655909\n",
      " -0.00655909 -0.00655909 -0.00655909 -0.00655909 -0.00655909 -0.00655909\n",
      " -0.00655909 -0.00655909 -0.00655909 -0.00655909 -0.00655909 -0.00655909\n",
      " -0.00655909 -0.00655909 -0.00655909 -0.00655909 -0.00655909 -0.00655909]\n",
      "\n"
     ]
    }
   ],
   "source": [
    "print(estR1_nonparam_dw.estimate_)"
   ]
  },
  {
   "cell_type": "code",
   "execution_count": 107,
   "metadata": {},
   "outputs": [
    {
     "name": "stdout",
     "output_type": "stream",
     "text": [
      "Refute: Add a random common cause\n",
      "Estimated effect:-0.006559085404062168\n",
      "New effect:-0.003790086150394113\n",
      "p value:0.44977801785047977\n",
      "\n"
     ]
    }
   ],
   "source": [
    "res_random = estR1_nonparam_dw.refute_estimate(method_name=\"random_common_cause\", num_simulations=5)\n",
    "print(res_random)"
   ]
  },
  {
   "cell_type": "code",
   "execution_count": 108,
   "metadata": {},
   "outputs": [
    {
     "name": "stdout",
     "output_type": "stream",
     "text": [
      "Refute: Add an Unobserved Common Cause\n",
      "Estimated effect:-0.006559085404062168\n",
      "New effect:-0.12003675981444063\n",
      "\n"
     ]
    }
   ],
   "source": [
    "res_unobserved = estR1_nonparam_dw.refute_estimate(\n",
    "    method_name=\"add_unobserved_common_cause\",\n",
    "    confounders_effect_on_treatment=\"linear\",\n",
    "    confounders_effect_on_outcome=\"linear\",\n",
    "    effect_strength_on_treatment=0.1,\n",
    "    effect_strength_on_outcome=0.1,\n",
    ")\n",
    "print(res_unobserved)"
   ]
  },
  {
   "cell_type": "code",
   "execution_count": 109,
   "metadata": {},
   "outputs": [
    {
     "name": "stdout",
     "output_type": "stream",
     "text": [
      "Refute: Use a Placebo Treatment\n",
      "Estimated effect:-0.006559085404062168\n",
      "New effect:0.022716076591484325\n",
      "p value:0.04678777259914794\n",
      "\n"
     ]
    }
   ],
   "source": [
    "res_placebo = estR1_nonparam_dw.refute_estimate(\n",
    "    method_name=\"placebo_treatment_refuter\", placebo_type=\"permute\", \n",
    "    num_simulations=3\n",
    ")\n",
    "print(res_placebo)"
   ]
  },
  {
   "cell_type": "code",
   "execution_count": 110,
   "metadata": {},
   "outputs": [
    {
     "name": "stdout",
     "output_type": "stream",
     "text": [
      "Refute: Use a subset of data\n",
      "Estimated effect:-0.006559085404062168\n",
      "New effect:-0.04731168556314537\n",
      "p value:0.04091349263050059\n",
      "\n"
     ]
    }
   ],
   "source": [
    "res_subset = estR1_nonparam_dw.refute_estimate(\n",
    "    method_name=\"data_subset_refuter\", subset_fraction=0.2, \n",
    "    num_simulations=5)\n",
    "print(res_subset)"
   ]
  },
  {
   "attachments": {},
   "cell_type": "markdown",
   "metadata": {},
   "source": [
    "## T = RightRulingParty, F = NuclearExperiment"
   ]
  },
  {
   "attachments": {},
   "cell_type": "markdown",
   "metadata": {},
   "source": [
    "### Param"
   ]
  },
  {
   "cell_type": "code",
   "execution_count": 111,
   "metadata": {},
   "outputs": [],
   "source": [
    "# Define estimator inputs (T = LeftRulingParty)\n",
    "Y = test[\"MS_change\"].values\n",
    "T = test[\"RightRulingParty\"].values\n",
    "X = test[[\"NuclearExperiment\"]].values  # features\n",
    "confounder_names = [\"GDP_growth\", \"EngageinBattle\"]\n",
    "W = test[confounder_names].values"
   ]
  },
  {
   "cell_type": "code",
   "execution_count": 112,
   "metadata": {},
   "outputs": [],
   "source": [
    "# initiate an EconML cate estimator\n",
    "estR2 = LinearDML(model_y=GradientBoostingRegressor(), model_t=GradientBoostingRegressor(),\n",
    "              featurizer=PolynomialFeatures(degree=2, include_bias=False))"
   ]
  },
  {
   "cell_type": "code",
   "execution_count": 113,
   "metadata": {},
   "outputs": [
    {
     "name": "stderr",
     "output_type": "stream",
     "text": [
      "Co-variance matrix is underdetermined. Inference will be invalid!\n"
     ]
    }
   ],
   "source": [
    "estR2_dw = estL2.dowhy.fit(Y, T, X=X, W=W, outcome_names=[\"MS_change\"], treatment_names=[\"RightRulingParty\"], feature_names=[\"NuclearExperiment\"],\n",
    "               confounder_names=confounder_names, inference=\"statsmodels\")"
   ]
  },
  {
   "cell_type": "code",
   "execution_count": 114,
   "metadata": {},
   "outputs": [
    {
     "name": "stderr",
     "output_type": "stream",
     "text": [
      "nx.nx_pydot.to_pydot depends on the pydot package, which hasknown issues and is not actively maintained.\n",
      "\n",
      "See https://github.com/networkx/networkx/issues/5723\n"
     ]
    },
    {
     "data": {
      "image/png": "[encoded data removed]",
      "text/plain": [
       "<IPython.core.display.Image object>"
      ]
     },
     "metadata": {},
     "output_type": "display_data"
    }
   ],
   "source": [
    "# Visualize causal graph\n",
    "try:\n",
    "    # Try pretty printing the graph. Requires pydot and pygraphviz\n",
    "    display(\n",
    "        Image(to_pydot(estR2_dw._graph._graph).create_png())\n",
    "    )\n",
    "except:\n",
    "    # Fall back on default graph view\n",
    "    estR2_dw.view_model() "
   ]
  },
  {
   "cell_type": "code",
   "execution_count": 115,
   "metadata": {},
   "outputs": [
    {
     "name": "stdout",
     "output_type": "stream",
     "text": [
      "Estimand type: nonparametric-ate\n",
      "\n",
      "### Estimand : 1\n",
      "Estimand name: backdoor\n",
      "Estimand expression:\n",
      "         d                                                                   \n",
      "───────────────────(E[MS_change|NuclearExperiment,GDP_growth,EngageinBattle])\n",
      "d[RightRulingParty]                                                          \n",
      "Estimand assumption 1, Unconfoundedness: If U→{RightRulingParty} and U→MS_change then P(MS_change|RightRulingParty,NuclearExperiment,GDP_growth,EngageinBattle,U) = P(MS_change|RightRulingParty,NuclearExperiment,GDP_growth,EngageinBattle)\n",
      "\n",
      "### Estimand : 2\n",
      "Estimand name: iv\n",
      "No such variable(s) found!\n",
      "\n",
      "### Estimand : 3\n",
      "Estimand name: frontdoor\n",
      "No such variable(s) found!\n",
      "\n"
     ]
    }
   ],
   "source": [
    "identified_estimand = estR2_dw.identified_estimand_\n",
    "print(identified_estimand)"
   ]
  },
  {
   "cell_type": "code",
   "execution_count": 116,
   "metadata": {},
   "outputs": [
    {
     "name": "stdout",
     "output_type": "stream",
     "text": [
      "*** Causal Estimate ***\n",
      "\n",
      "## Identified estimand\n",
      "Estimand type: nonparametric-ate\n",
      "\n",
      "### Estimand : 1\n",
      "Estimand name: backdoor\n",
      "Estimand expression:\n",
      "         d                                                                   \n",
      "───────────────────(E[MS_change|NuclearExperiment,GDP_growth,EngageinBattle])\n",
      "d[RightRulingParty]                                                          \n",
      "Estimand assumption 1, Unconfoundedness: If U→{RightRulingParty} and U→MS_change then P(MS_change|RightRulingParty,NuclearExperiment,GDP_growth,EngageinBattle,U) = P(MS_change|RightRulingParty,NuclearExperiment,GDP_growth,EngageinBattle)\n",
      "\n",
      "## Realized estimand\n",
      "b: MS_change~RightRulingParty+NuclearExperiment+GDP_growth+EngageinBattle | NuclearExperiment\n",
      "Target units: ate\n",
      "\n",
      "## Estimate\n",
      "Mean value: -0.019626761891211354\n",
      "Effect estimates: [-0.0185073  -0.0185073  -0.0185073  -0.0185073  -0.0185073  -0.0185073\n",
      " -0.0185073  -0.0185073  -0.0185073  -0.0185073  -0.0185073  -0.0185073\n",
      " -0.0185073  -0.0185073  -0.02522409 -0.0185073  -0.0185073  -0.02522409\n",
      " -0.0185073  -0.0185073  -0.0185073  -0.02522409 -0.0185073  -0.0185073\n",
      " -0.02522409 -0.02522409 -0.0185073  -0.0185073  -0.0185073  -0.0185073 ]\n",
      "\n"
     ]
    }
   ],
   "source": [
    "lineardml_estimate = estR2_dw.estimate_\n",
    "print(lineardml_estimate)"
   ]
  },
  {
   "attachments": {},
   "cell_type": "markdown",
   "metadata": {},
   "source": [
    "### Non-param"
   ]
  },
  {
   "cell_type": "code",
   "execution_count": 117,
   "metadata": {},
   "outputs": [],
   "source": [
    "# initiate an EconML cate estimator\n",
    "estR2_nonparam = CausalForestDML(model_y=GradientBoostingRegressor(), model_t=GradientBoostingRegressor())\n",
    "# fit through dowhy\n",
    "estR2_nonparam_dw = estR2_nonparam.dowhy.fit(Y, T, X=X, W=W, outcome_names=[\"MS_change\"], treatment_names=[\"RightRulingParty\"],\n",
    "                                         feature_names=[\"NuclearExperiment\"], confounder_names=confounder_names, inference=\"blb\")"
   ]
  },
  {
   "cell_type": "code",
   "execution_count": 118,
   "metadata": {},
   "outputs": [
    {
     "name": "stdout",
     "output_type": "stream",
     "text": [
      "*** Causal Estimate ***\n",
      "\n",
      "## Identified estimand\n",
      "Estimand type: nonparametric-ate\n",
      "\n",
      "### Estimand : 1\n",
      "Estimand name: backdoor\n",
      "Estimand expression:\n",
      "         d                                                                   \n",
      "───────────────────(E[MS_change|NuclearExperiment,GDP_growth,EngageinBattle])\n",
      "d[RightRulingParty]                                                          \n",
      "Estimand assumption 1, Unconfoundedness: If U→{RightRulingParty} and U→MS_change then P(MS_change|RightRulingParty,NuclearExperiment,GDP_growth,EngageinBattle,U) = P(MS_change|RightRulingParty,NuclearExperiment,GDP_growth,EngageinBattle)\n",
      "\n",
      "## Realized estimand\n",
      "b: MS_change~RightRulingParty+NuclearExperiment+GDP_growth+EngageinBattle | NuclearExperiment\n",
      "Target units: ate\n",
      "\n",
      "## Estimate\n",
      "Mean value: -0.017261358547572873\n",
      "Effect estimates: [-0.01726136 -0.01726136 -0.01726136 -0.01726136 -0.01726136 -0.01726136\n",
      " -0.01726136 -0.01726136 -0.01726136 -0.01726136 -0.01726136 -0.01726136\n",
      " -0.01726136 -0.01726136 -0.01726136 -0.01726136 -0.01726136 -0.01726136\n",
      " -0.01726136 -0.01726136 -0.01726136 -0.01726136 -0.01726136 -0.01726136\n",
      " -0.01726136 -0.01726136 -0.01726136 -0.01726136 -0.01726136 -0.01726136]\n",
      "\n"
     ]
    }
   ],
   "source": [
    "print(estR2_nonparam_dw.estimate_)"
   ]
  },
  {
   "cell_type": "code",
   "execution_count": 119,
   "metadata": {},
   "outputs": [
    {
     "name": "stdout",
     "output_type": "stream",
     "text": [
      "Refute: Add a random common cause\n",
      "Estimated effect:-0.017261358547572873\n",
      "New effect:-0.006662904906431148\n",
      "p value:0.22813871806168168\n",
      "\n"
     ]
    }
   ],
   "source": [
    "res_random = estR2_nonparam_dw.refute_estimate(method_name=\"random_common_cause\", num_simulations=5)\n",
    "print(res_random)"
   ]
  },
  {
   "cell_type": "code",
   "execution_count": 120,
   "metadata": {},
   "outputs": [
    {
     "name": "stdout",
     "output_type": "stream",
     "text": [
      "Refute: Add an Unobserved Common Cause\n",
      "Estimated effect:-0.017261358547572873\n",
      "New effect:0.010717508539528527\n",
      "\n"
     ]
    }
   ],
   "source": [
    "res_unobserved = estR2_nonparam_dw.refute_estimate(\n",
    "    method_name=\"add_unobserved_common_cause\",\n",
    "    confounders_effect_on_treatment=\"linear\",\n",
    "    confounders_effect_on_outcome=\"linear\",\n",
    "    effect_strength_on_treatment=0.1,\n",
    "    effect_strength_on_outcome=0.1,\n",
    ")\n",
    "print(res_unobserved)"
   ]
  },
  {
   "cell_type": "code",
   "execution_count": 121,
   "metadata": {},
   "outputs": [
    {
     "name": "stdout",
     "output_type": "stream",
     "text": [
      "Refute: Use a Placebo Treatment\n",
      "Estimated effect:-0.017261358547572873\n",
      "New effect:-0.0026699501750230546\n",
      "p value:0.4558334034096192\n",
      "\n"
     ]
    }
   ],
   "source": [
    "res_placebo = estR2_nonparam_dw.refute_estimate(\n",
    "    method_name=\"placebo_treatment_refuter\", placebo_type=\"permute\", \n",
    "    num_simulations=3\n",
    ")\n",
    "print(res_placebo)"
   ]
  },
  {
   "cell_type": "code",
   "execution_count": 122,
   "metadata": {},
   "outputs": [
    {
     "name": "stdout",
     "output_type": "stream",
     "text": [
      "Refute: Use a subset of data\n",
      "Estimated effect:-0.017261358547572873\n",
      "New effect:-0.01437855478100416\n",
      "p value:0.40939093456838593\n",
      "\n"
     ]
    }
   ],
   "source": [
    "res_subset = estR2_nonparam_dw.refute_estimate(\n",
    "    method_name=\"data_subset_refuter\", subset_fraction=0.8, \n",
    "    num_simulations=3)\n",
    "print(res_subset)"
   ]
  }
 ],
 "metadata": {
  "kernelspec": {
   "display_name": "ian",
   "language": "python",
   "name": "python3"
  },
  "language_info": {
   "codemirror_mode": {
    "name": "ipython",
    "version": 3
   },
   "file_extension": ".py",
   "mimetype": "text/x-python",
   "name": "python",
   "nbconvert_exporter": "python",
   "pygments_lexer": "ipython3",
   "version": "3.8.13"
  },
  "orig_nbformat": 4
 },
 "nbformat": 4,
 "nbformat_minor": 2
}
